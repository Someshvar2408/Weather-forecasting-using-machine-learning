{
  "nbformat": 4,
  "nbformat_minor": 0,
  "metadata": {
    "colab": {
      "provenance": [],
      "mount_file_id": "1z3jkQ4gX65uWz4sHuck-g9jN0YVyw3py",
      "authorship_tag": "ABX9TyMNNy6tLIxe1OanjK52ziJm"
    },
    "kernelspec": {
      "name": "python3",
      "display_name": "Python 3"
    },
    "language_info": {
      "name": "python"
    }
  },
  "cells": [
    {
      "cell_type": "code",
      "execution_count": null,
      "metadata": {
        "colab": {
          "base_uri": "https://localhost:8080/"
        },
        "id": "YLSc24-oTZmg",
        "outputId": "454205ab-f787-49b4-d971-d104cac72c9a"
      },
      "outputs": [
        {
          "output_type": "stream",
          "name": "stdout",
          "text": [
            "Mean Squared Error - Temperature: 0.0\n",
            "Mean Squared Error - Pressure: 119.55557682001866\n",
            "Mean Squared Error - Light Intensity: 1051768292343.3589\n"
          ]
        }
      ],
      "source": [
        "# Import necessary libraries\n",
        "import pandas as pd\n",
        "from sklearn.model_selection import train_test_split\n",
        "from sklearn.linear_model import LinearRegression\n",
        "from sklearn.metrics import mean_squared_error\n",
        "\n",
        "# Load the CSV file from ThingSpeak\n",
        "df = pd.read_csv('/feeds.csv')\n",
        "\n",
        "# Split the data into training and testing sets\n",
        "X = df.drop(['field1','field2','field3'], axis=1)\n",
        "y_temperature = df['field2']\n",
        "y_pressure = df['field3']\n",
        "y_light_intensity = df['field1']\n",
        "X_train, X_test, y_temperature_train, y_temperature_test, y_pressure_train, y_pressure_test, y_light_intensity_train, y_light_intensity_test = train_test_split(X, y_temperature, y_pressure, y_light_intensity, test_size=0.2, random_state=42)\n",
        "\n",
        "# Train three linear regression models for each variable\n",
        "temperature_model = LinearRegression()\n",
        "temperature_model.fit(X_train, y_temperature_train)\n",
        "\n",
        "pressure_model = LinearRegression()\n",
        "pressure_model.fit(X_train, y_pressure_train)\n",
        "\n",
        "light_intensity_model = LinearRegression()\n",
        "light_intensity_model.fit(X_train, y_light_intensity_train)\n",
        "\n",
        "# Make predictions on the test set\n",
        "y_temperature_pred = temperature_model.predict(X_test)\n",
        "y_pressure_pred = pressure_model.predict(X_test)\n",
        "y_light_intensity_pred = light_intensity_model.predict(X_test)\n",
        "\n",
        "# Evaluate the models using mean squared error\n",
        "mse_temperature = mean_squared_error(y_temperature_test, y_temperature_pred)\n",
        "mse_pressure = mean_squared_error(y_pressure_test, y_pressure_pred)\n",
        "mse_light_intensity = mean_squared_error(y_light_intensity_test, y_light_intensity_pred)\n",
        "print('Mean Squared Error - Temperature:', mse_temperature)\n",
        "print('Mean Squared Error - Pressure:', mse_pressure)\n",
        "print('Mean Squared Error - Light Intensity:', mse_light_intensity)"
      ]
    }
  ]
}